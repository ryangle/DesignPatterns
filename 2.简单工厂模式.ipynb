{
 "cells": [
  {
   "cell_type": "markdown",
   "metadata": {},
   "source": [
    "# 简单工厂模式 Simple Factory Pattern\n",
    "\n",
    "根据参数返回一个类的实例。通常返回的实例都有同一个父类。"
   ]
  },
  {
   "cell_type": "code",
   "execution_count": null,
   "metadata": {
    "dotnet_interactive": {
     "language": "csharp"
    },
    "vscode": {
     "languageId": "dotnet-interactive.csharp"
    }
   },
   "outputs": [
    {
     "name": "stdout",
     "output_type": "stream",
     "text": [
      "Bulb light is on\r\n",
      "Bulb light is off\r\n"
     ]
    }
   ],
   "source": [
    "#nullable enable\n",
    "\n",
    "public abstract class Light{\n",
    "    public bool SwitchState {get;protected set;}\n",
    "    public abstract void ToggleSwitch();\n",
    "}\n",
    "public class BulbLight : Light{\n",
    "    public override void ToggleSwitch(){\n",
    "        SwitchState = !SwitchState;\n",
    "        Console.WriteLine($\"Bulb light is {(SwitchState?\"on\":\"off\")}\");\n",
    "    }\n",
    "}\n",
    "public class TubeLight : Light {\n",
    "    public override void ToggleSwitch(){\n",
    "        SwitchState = !SwitchState;\n",
    "        Console.WriteLine($\"Tube light is {(SwitchState?\"on\":\"off\")}\");\n",
    "    }\n",
    "}\n",
    "public class LightFactory{\n",
    "    public Light? Create(string lightType){\n",
    "        switch (lightType){\n",
    "            case \"Bulb\":\n",
    "              return new BulbLight();\n",
    "            case \"Tube\":\n",
    "              return new TubeLight();\n",
    "            default:\n",
    "              return null;\n",
    "        }\n",
    "    }\n",
    "}\n",
    "\n",
    "var factory = new LightFactory();\n",
    "var light = factory.Create(\"Bulb\");\n",
    "light?.ToggleSwitch();\n",
    "light?.ToggleSwitch();\n"
   ]
  },
  {
   "cell_type": "markdown",
   "metadata": {},
   "source": [
    "工厂方法也可以直接由抽象类实现，如下：\n",
    "\n",
    "```csharp\n",
    "public class Light{\n",
    "    public virtual void ToggleSwitch(){}\n",
    "    public static Light? Create(string lightType){\n",
    "        switch (lightType){\n",
    "            case \"Bulb\":\n",
    "              return new BulbLight();\n",
    "            case \"Tube\":\n",
    "              return new TubeLight();\n",
    "            default:\n",
    "              return null;\n",
    "        }\n",
    "    }\n",
    "}\n",
    "```"
   ]
  },
  {
   "cell_type": "markdown",
   "metadata": {},
   "source": [
    "简单工厂类中，集中了所有产品的创建逻辑，会造成逻辑复杂，扩展困难，只适用于简单的场景中。"
   ]
  }
 ],
 "metadata": {
  "kernelspec": {
   "display_name": ".NET (C#)",
   "language": "C#",
   "name": ".net-csharp"
  },
  "language_info": {
   "name": "C#"
  }
 },
 "nbformat": 4,
 "nbformat_minor": 2
}
