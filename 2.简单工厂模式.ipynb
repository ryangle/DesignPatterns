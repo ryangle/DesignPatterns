{
 "cells": [
  {
   "cell_type": "markdown",
   "metadata": {},
   "source": [
    "# 简单工厂模式\n",
    "\n",
    "根据参数返回一个类的实例。通常返回的实例都有同一个父类。"
   ]
  },
  {
   "cell_type": "code",
   "execution_count": null,
   "metadata": {
    "dotnet_interactive": {
     "language": "csharp"
    },
    "vscode": {
     "languageId": "dotnet-interactive.csharp"
    }
   },
   "outputs": [],
   "source": [
    "#nullable enable\n",
    "\n",
    "public abstract class Light{\n",
    "    public abstract void TurnOn();\n",
    "    public abstract void TurnOff();\n",
    "}\n",
    "public class BulbLight : Light{\n",
    "    public override void TurnOn(){\n",
    "        Console.WriteLine(\"Bulb light is turn on\");\n",
    "    }\n",
    "    public override void TurnOff(){\n",
    "        Console.WriteLine(\"Bulb light is turn off\");\n",
    "    }\n",
    "}\n",
    "public class TubeLight : Light {\n",
    "    public override void TurnOn(){\n",
    "        Console.WriteLine(\"Tube light is turn on\");\n",
    "    }\n",
    "    public override void TurnOff(){\n",
    "        Console.WriteLine(\"Tube light is turn off\");\n",
    "    }\n",
    "}\n",
    "public class LightFactory{\n",
    "    public Light? Create(string lightType){\n",
    "        switch (lightType){\n",
    "            case \"Bulb\":\n",
    "              return new BulbLight();\n",
    "            case \"Tube\":\n",
    "              return new TubeLight();\n",
    "            default:\n",
    "              return null;\n",
    "        }\n",
    "    }\n",
    "}\n",
    "\n",
    "var factory = new LightFactory();\n",
    "var light = factory.Create(\"Bulb\");\n",
    "if(light != null){\n",
    "  light.TurnOn();\n",
    "  light.TurnOff();\n",
    "}\n"
   ]
  },
  {
   "cell_type": "markdown",
   "metadata": {},
   "source": [
    "工厂方法也可以直接由抽象类实现，如下：\n",
    "\n",
    "```csharp\n",
    "public class Light{\n",
    "    public virtual void TurnOn(){}\n",
    "    public virtual void TurnOff(){}\n",
    "    public static Light? Create(string lightType){\n",
    "        switch (lightType){\n",
    "            case \"Bulb\":\n",
    "              return new BulbLight();\n",
    "            case \"Tube\":\n",
    "              return new TubeLight();\n",
    "            default:\n",
    "              return null;\n",
    "        }\n",
    "    }\n",
    "}\n",
    "```"
   ]
  },
  {
   "cell_type": "markdown",
   "metadata": {},
   "source": [
    "简单工厂类中，集中了所有产品的创建逻辑，会造成逻辑复杂，扩展困难，只适用于简单的场景中。"
   ]
  }
 ],
 "metadata": {
  "kernelspec": {
   "display_name": ".NET (C#)",
   "language": "C#",
   "name": ".net-csharp"
  },
  "language_info": {
   "name": "C#"
  }
 },
 "nbformat": 4,
 "nbformat_minor": 2
}
