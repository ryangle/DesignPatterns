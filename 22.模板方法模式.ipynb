{
 "cells": [
  {
   "cell_type": "markdown",
   "metadata": {},
   "source": [
    "# 模板方法模式 Template Method Pattern\n",
    "\n",
    "模板方法模式是基于继承的代码服用的基本技术，模板方法模式的结构和用法也是面向对象设计的核心。\n",
    "\n",
    "在抽象类中，将部分逻辑以具体方法或者构造函数的形式实现，然后声明抽象方法迫使子类实现剩余的逻辑。"
   ]
  },
  {
   "cell_type": "code",
   "execution_count": null,
   "metadata": {
    "dotnet_interactive": {
     "language": "csharp"
    },
    "vscode": {
     "languageId": "dotnet-interactive.csharp"
    }
   },
   "outputs": [],
   "source": [
    "#nullable enable\n",
    "\n",
    "public abstract class AbstractClass{\n",
    "    public abstract void PrimitiveOperation1();\n",
    "    public abstract void PrimitiveOperation2();\n",
    "    public void TemplateMethod(){\n",
    "        Console.WriteLine(\"AbstractClass TemplateMethod\");\n",
    "        PrimitiveOperation1();\n",
    "        PrimitiveOperation2();\n",
    "    }\n",
    "}\n",
    "public class ConcreteClass:AbstractClass{\n",
    "    public override void PrimitiveOperation1(){\n",
    "        Console.WriteLine(\"ConcreteClass PrimitiveOperation1\");\n",
    "    }\n",
    "    public override void PrimitiveOperation2(){\n",
    "        Console.WriteLine(\"ConcreteClass PrimitiveOperation2\");\n",
    "    }\n",
    "}\n",
    "\n",
    "ConcreteClass c = new();\n",
    "c.TemplateMethod();"
   ]
  },
  {
   "cell_type": "markdown",
   "metadata": {},
   "source": [
    "在对一个继承的等级结构做重构时，一个应当遵从的原则是将行为尽量移动到结构的高端，而将状态尽量移动到结构的低端。"
   ]
  }
 ],
 "metadata": {
  "kernelspec": {
   "display_name": ".NET (C#)",
   "language": "C#",
   "name": ".net-csharp"
  },
  "language_info": {
   "file_extension": ".cs",
   "mimetype": "text/x-csharp",
   "name": "C#",
   "pygments_lexer": "csharp",
   "version": "9.0"
  },
  "orig_nbformat": 4
 },
 "nbformat": 4,
 "nbformat_minor": 2
}
