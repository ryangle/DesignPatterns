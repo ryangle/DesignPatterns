{
 "cells": [
  {
   "cell_type": "markdown",
   "metadata": {},
   "source": [
    "# 策略模式 Strategy Pattern\n",
    "\n",
    "针对一组算法，将每一个算法封装到具有共同接口的独立的类中，从而使他们可以互相替换。策略模式使得算法可以在不影响到客户端的情况下发生变化。\n",
    "\n",
    "策略模式使对算法的包装，是把使用算法的责任和算法本身分隔开，委派给不同的对象管理。"
   ]
  },
  {
   "cell_type": "code",
   "execution_count": null,
   "metadata": {
    "dotnet_interactive": {
     "language": "csharp"
    },
    "vscode": {
     "languageId": "dotnet-interactive.csharp"
    }
   },
   "outputs": [],
   "source": [
    "#nullable enable\n",
    "\n",
    "public abstract class Strategy{\n",
    "    public abstract void AlgorithmInterface();\n",
    "}\n",
    "public class CnocreteStrategyA:Strategy{\n",
    "    public override void AlgorithmInterface(){\n",
    "        Console.WriteLine(\"CnocreteStrategyA AlgorithmInterface\");\n",
    "    }\n",
    "}\n",
    "public class CnocreteStrategyB:Strategy{\n",
    "    public override void AlgorithmInterface(){\n",
    "        Console.WriteLine(\"CnocreteStrategyB AlgorithmInterface\");\n",
    "    }\n",
    "}\n",
    "public class CnocreteStrategyC:Strategy{\n",
    "    public override void AlgorithmInterface(){\n",
    "        Console.WriteLine(\"CnocreteStrategyC AlgorithmInterface\");\n",
    "    }\n",
    "}\n",
    "public class Context{\n",
    "    private Strategy _strategy;\n",
    "    public Context(Strategy strategy){\n",
    "        _strategy = strategy;\n",
    "    }\n",
    "    public void ContextInterface(){\n",
    "        _strategy.AlgorithmInterface();\n",
    "    }\n",
    "}\n",
    "\n",
    "Context a = new(new CnocreteStrategyA());\n",
    "a.ContextInterface();\n",
    "\n",
    "Context b = new(new CnocreteStrategyB());\n",
    "b.ContextInterface();\n",
    "\n",
    "Context c = new(new CnocreteStrategyC());\n",
    "c.ContextInterface();"
   ]
  },
  {
   "cell_type": "markdown",
   "metadata": {},
   "source": [
    "策略模式的缺点：客户端必须知道所有的策略类，并且自行决定使用哪一个策略类。"
   ]
  }
 ],
 "metadata": {
  "kernelspec": {
   "display_name": ".NET (C#)",
   "language": "C#",
   "name": ".net-csharp"
  },
  "language_info": {
   "file_extension": ".cs",
   "mimetype": "text/x-csharp",
   "name": "C#",
   "pygments_lexer": "csharp",
   "version": "9.0"
  },
  "orig_nbformat": 4
 },
 "nbformat": 4,
 "nbformat_minor": 2
}
