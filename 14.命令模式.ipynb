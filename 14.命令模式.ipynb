{
 "cells": [
  {
   "cell_type": "markdown",
   "metadata": {},
   "source": [
    "# 命令模式 Command Pattern\n",
    "\n",
    "命令模式把发出命令方和执行命令方分割开，委派给不同的对象。对于命令请求，可以执行排队、记录、撤销或恢复等。"
   ]
  },
  {
   "cell_type": "code",
   "execution_count": null,
   "metadata": {
    "dotnet_interactive": {
     "language": "csharp"
    },
    "vscode": {
     "languageId": "dotnet-interactive.csharp"
    }
   },
   "outputs": [],
   "source": [
    "#nullable enable\n",
    "\n",
    "public class Receiver{\n",
    "    public void Action(){\n",
    "        Console.WriteLine(\"Called Receiver action\");\n",
    "    }\n",
    "}\n",
    "public abstract class Command{\n",
    "    public Receiver Receiver {get;private set;}\n",
    "    public Command(Receiver receiver){\n",
    "        Receiver = receiver;\n",
    "    }\n",
    "    public abstract void Execute();\n",
    "}\n",
    "public class ConcreteCommand:Command{\n",
    "    public ConcreteCommand(Receiver receiver):base(receiver){}\n",
    "    public override void Execute(){\n",
    "        Receiver.Action();\n",
    "    }\n",
    "}\n",
    "public class Invoker{\n",
    "    private Command? _command;\n",
    "    public void SetCommand(Command command){\n",
    "        _command = command;\n",
    "    }\n",
    "    public void ExecuteCommand(){\n",
    "        _command?.Execute();\n",
    "    }\n",
    "}\n",
    "\n",
    "Receiver r = new();\n",
    "Command c = new ConcreteCommand(r);\n",
    "Invoker i = new();\n",
    "\n",
    "i.SetCommand(c);\n",
    "i.ExecuteCommand();"
   ]
  }
 ],
 "metadata": {
  "kernelspec": {
   "display_name": ".NET (C#)",
   "language": "C#",
   "name": ".net-csharp"
  },
  "language_info": {
   "file_extension": ".cs",
   "mimetype": "text/x-csharp",
   "name": "C#",
   "pygments_lexer": "csharp",
   "version": "9.0"
  },
  "orig_nbformat": 4
 },
 "nbformat": 4,
 "nbformat_minor": 2
}
