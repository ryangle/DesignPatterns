{
 "cells": [
  {
   "cell_type": "markdown",
   "metadata": {},
   "source": [
    "# 组合模式 Composite Pattern\n",
    "\n",
    "用于把一组对象组合成树形结构，用来表示部分以及整体的层次。又叫部分整体模式Part-Whole Pattern。"
   ]
  },
  {
   "cell_type": "code",
   "execution_count": null,
   "metadata": {
    "dotnet_interactive": {
     "language": "csharp"
    },
    "vscode": {
     "languageId": "dotnet-interactive.csharp"
    }
   },
   "outputs": [],
   "source": [
    "#nullable enable\n",
    "\n",
    "public abstract class Component{\n",
    "    protected string Name;\n",
    "    public Component(string name){\n",
    "        Name = name;\n",
    "    }\n",
    "    public abstract void Display(int depth = 0);\n",
    "}\n",
    "\n",
    "public class Composit : Component {\n",
    "    private List<Component> _children = new();\n",
    "    public Composit(string name) : base(name){}\n",
    "    public void Add(Component child){\n",
    "        _children.Add(child);\n",
    "    }\n",
    "    public void Remove(Component child){\n",
    "        _children.Remove(child);\n",
    "    }\n",
    "    public override void Display(int depth = 0){\n",
    "        Console.WriteLine(new string('-',depth) + Name);\n",
    "        _children.ForEach(c=>{\n",
    "            c.Display(depth + 1);\n",
    "        });\n",
    "    }\n",
    "}\n",
    "public class Leaf : Component {\n",
    "    public Leaf(string name) : base(name){}\n",
    "    public override void Display(int depth = 0){\n",
    "        Console.WriteLine(new string('-',depth) + Name);\n",
    "    }\n",
    "}\n",
    "\n",
    "Composit root = new(\"root\");\n",
    "root.Add(new Leaf(\"Leaf 1\"));\n",
    "root.Add(new Leaf(\"Leaf 2\"));\n",
    "\n",
    "Composit composit1 = new(\"Composit 1\");\n",
    "composit1.Add(new Leaf(\"Leaf 11\"));\n",
    "composit1.Add(new Leaf(\"Leaf 12\"));\n",
    "\n",
    "Composit composit2 = new(\"Composit 2\");\n",
    "composit2.Add(new Leaf(\"Leaf 21\"));\n",
    "composit2.Add(new Leaf(\"Leaf 22\"));\n",
    "composit2.Add(new Leaf(\"Leaf 23\"));\n",
    "\n",
    "root.Add(composit1);\n",
    "root.Add(composit2);\n",
    "\n",
    "root.Display();"
   ]
  }
 ],
 "metadata": {
  "kernelspec": {
   "display_name": ".NET (C#)",
   "language": "C#",
   "name": ".net-csharp"
  },
  "language_info": {
   "file_extension": ".cs",
   "mimetype": "text/x-csharp",
   "name": "C#",
   "pygments_lexer": "csharp",
   "version": "9.0"
  },
  "orig_nbformat": 4
 },
 "nbformat": 4,
 "nbformat_minor": 2
}
