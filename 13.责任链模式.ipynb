{
 "cells": [
  {
   "cell_type": "markdown",
   "metadata": {},
   "source": [
    "# 责任链模式 Chain of Responsibility Pattern\n",
    "\n",
    "责任链就是每个对象都保存 对其下家的引用而连接起来形成的一条链。请求在这个链上传递，直到某对象决定处理此请求。\n",
    "\n",
    "请求的发送者完全不知道该请求会被被哪个对象处理，极大得降低了系统的耦合性。"
   ]
  },
  {
   "cell_type": "code",
   "execution_count": null,
   "metadata": {
    "dotnet_interactive": {
     "language": "csharp"
    },
    "vscode": {
     "languageId": "dotnet-interactive.csharp"
    }
   },
   "outputs": [],
   "source": [
    "#nullable enable\n",
    "\n",
    "public abstract class Handler{\n",
    "    public Handler? Successor {get;set;}\n",
    "    public abstract void HandlerRequest(int arg);\n",
    "}\n",
    "public class ConcreteHandler1:Handler{\n",
    "    public override void HandlerRequest(int arg){\n",
    "        if(arg >= 0 && arg < 10){\n",
    "            Console.WriteLine($\"ConcreteHandler1 {arg}\");\n",
    "        }else{\n",
    "            Successor?.HandlerRequest(arg);\n",
    "        }\n",
    "    }\n",
    "}\n",
    "public class ConcreteHandler2:Handler{\n",
    "    public override void HandlerRequest(int arg){\n",
    "        if(arg >= 10 && arg < 20){\n",
    "            Console.WriteLine($\"ConcreteHandler2 {arg}\");\n",
    "        }else{\n",
    "            Successor?.HandlerRequest(arg);\n",
    "        }\n",
    "    }\n",
    "}\n",
    "public class ConcreteHandler3:Handler{\n",
    "    public override void HandlerRequest(int arg){\n",
    "        if(arg >= 20){\n",
    "            Console.WriteLine($\"ConcreteHandler3 {arg}\");\n",
    "        }else{\n",
    "            Successor?.HandlerRequest(arg);\n",
    "        }\n",
    "    }\n",
    "}\n",
    "\n",
    "Handler h1 = new ConcreteHandler1();\n",
    "Handler h2 = new ConcreteHandler2();\n",
    "Handler h3 = new ConcreteHandler3();\n",
    "\n",
    "h1.Successor = h2;\n",
    "h2.Successor = h3;\n",
    "\n",
    "List<int> args = new(){2,4,5,12,14,15,22,24,25};\n",
    "args.ForEach(arg => h1.HandlerRequest(arg));"
   ]
  }
 ],
 "metadata": {
  "kernelspec": {
   "display_name": ".NET (C#)",
   "language": "C#",
   "name": ".net-csharp"
  },
  "language_info": {
   "file_extension": ".cs",
   "mimetype": "text/x-csharp",
   "name": "C#",
   "pygments_lexer": "csharp",
   "version": "9.0"
  },
  "orig_nbformat": 4
 },
 "nbformat": 4,
 "nbformat_minor": 2
}
