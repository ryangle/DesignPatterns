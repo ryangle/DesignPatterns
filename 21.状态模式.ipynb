{
 "cells": [
  {
   "cell_type": "markdown",
   "metadata": {},
   "source": [
    "# 状态模式 State Pattern\n",
    "\n",
    "对象在不同的状态下会有不同的表现（动作），在不同的表现（动作）下，对象的状态也可能会发生变化。\n",
    "\n",
    "使用Switch/Case或者if/else语句实现会有两个问题：\n",
    "\n",
    "1. 当状态数量很多时，维护起来就会非常困难。\n",
    "2. 状态逻辑和动作没有分离，系统很难扩展。\n",
    "\n",
    "而使用状态模式，就可以将每个分支都封装到独立的类中，分离状态逻辑和动作。"
   ]
  },
  {
   "cell_type": "code",
   "execution_count": null,
   "metadata": {
    "dotnet_interactive": {
     "language": "csharp"
    },
    "vscode": {
     "languageId": "dotnet-interactive.csharp"
    }
   },
   "outputs": [],
   "source": [
    "#nullable enable\n",
    "\n",
    "public abstract class State{\n",
    "    public abstract void OperationInterface(Context context);\n",
    "    public abstract void OperationChangeState(Context context);\n",
    "    public abstract bool ChangeState(Context context,State state);\n",
    "}\n",
    "public class ConcreteStateA:State{\n",
    "    public override void OperationInterface(Context context){\n",
    "        Console.WriteLine($\"ConcreteStateA OperationInterface\");\n",
    "    }\n",
    "    public override void OperationChangeState(Context context){\n",
    "        ChangeState(context,new ConcreteStateB());\n",
    "    }\n",
    "    public override bool ChangeState(Context context,State state){\n",
    "        context.ChangeState(state);\n",
    "        return true;\n",
    "    }\n",
    "}\n",
    "public class ConcreteStateB:State{\n",
    "    public override void OperationInterface(Context context){\n",
    "        Console.WriteLine($\"ConcreteStateB OperationInterface\");\n",
    "    }\n",
    "    public override void OperationChangeState(Context context){\n",
    "        ChangeState(context,new ConcreteStateA());\n",
    "    }\n",
    "    public override bool ChangeState(Context context,State state){\n",
    "        context.ChangeState(state);\n",
    "        return true;\n",
    "    }\n",
    "}\n",
    "public class Context{\n",
    "    private State _state;\n",
    "    public Context(State state){\n",
    "        _state = state;\n",
    "    }\n",
    "    public void OperationInterface(){\n",
    "        _state.OperationInterface(this);\n",
    "    }\n",
    "    public void OperationChangeState(){\n",
    "        _state.OperationChangeState(this);\n",
    "    }\n",
    "    public bool ChangeState(State state){\n",
    "        _state = state;\n",
    "        return true;\n",
    "    }\n",
    "}\n",
    "\n",
    "State state = new ConcreteStateA();\n",
    "Context context = new(state);\n",
    "context.OperationInterface();\n",
    "context.OperationChangeState();\n",
    "context.OperationInterface();\n",
    "context.OperationChangeState();\n",
    "context.OperationInterface();"
   ]
  }
 ],
 "metadata": {
  "kernelspec": {
   "display_name": ".NET (C#)",
   "language": "C#",
   "name": ".net-csharp"
  },
  "language_info": {
   "file_extension": ".cs",
   "mimetype": "text/x-csharp",
   "name": "C#",
   "pygments_lexer": "csharp",
   "version": "9.0"
  },
  "orig_nbformat": 4
 },
 "nbformat": 4,
 "nbformat_minor": 2
}
