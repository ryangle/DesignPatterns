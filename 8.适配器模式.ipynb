{
 "cells": [
  {
   "cell_type": "markdown",
   "metadata": {},
   "source": [
    "# 适配器模式 Adapter Pattern\n",
    "\n",
    "把一个类的接口转换为另一个类的接口，从而使原本接口不匹配而无法一起工作的两个类能够一起工作。\n",
    "\n",
    "适配的过程也很想货物包装的过程，因此也有人把这种模式称为包装模式 Wrapper Pattern。"
   ]
  },
  {
   "cell_type": "markdown",
   "metadata": {},
   "source": [
    "适配类"
   ]
  },
  {
   "cell_type": "code",
   "execution_count": null,
   "metadata": {
    "dotnet_interactive": {
     "language": "csharp"
    },
    "vscode": {
     "languageId": "dotnet-interactive.csharp"
    }
   },
   "outputs": [],
   "source": [
    "#nullable enable\n",
    "\n",
    "interface ITarget{\n",
    "    void Invoke();\n",
    "}\n",
    "\n",
    "public class Adaptee{\n",
    "    public void AdapteeInvoke(){\n",
    "        Console.WriteLine(\"Adaptee's invoke\");\n",
    "    }\n",
    "}\n",
    "\n",
    "public class Adapter : Adaptee,ITarget{\n",
    "    public void Invoke(){\n",
    "        AdapteeInvoke();\n",
    "    }\n",
    "}\n",
    "\n",
    "var adapter = new Adapter();\n",
    "adapter.Invoke();"
   ]
  },
  {
   "cell_type": "markdown",
   "metadata": {},
   "source": [
    "适配对象"
   ]
  },
  {
   "cell_type": "code",
   "execution_count": null,
   "metadata": {
    "dotnet_interactive": {
     "language": "csharp"
    },
    "vscode": {
     "languageId": "dotnet-interactive.csharp"
    }
   },
   "outputs": [],
   "source": [
    "#nullable enable\n",
    "\n",
    "public class Adaptee{\n",
    "    public void AdapteeInvoke(){\n",
    "        Console.WriteLine(\"Adaptee's invoke\");\n",
    "    }\n",
    "}\n",
    "\n",
    "public class Adapter {\n",
    "    private Adaptee _adaptee = new();\n",
    "    public void Invoke(){\n",
    "        _adaptee.AdapteeInvoke();\n",
    "    }\n",
    "}\n",
    "\n",
    "var adapter = new Adapter();\n",
    "adapter.Invoke();"
   ]
  }
 ],
 "metadata": {
  "kernelspec": {
   "display_name": ".NET (C#)",
   "language": "C#",
   "name": ".net-csharp"
  },
  "language_info": {
   "file_extension": ".cs",
   "mimetype": "text/x-csharp",
   "name": "C#",
   "pygments_lexer": "csharp",
   "version": "9.0"
  },
  "orig_nbformat": 4
 },
 "nbformat": 4,
 "nbformat_minor": 2
}
