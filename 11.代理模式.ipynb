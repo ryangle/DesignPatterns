{
 "cells": [
  {
   "cell_type": "markdown",
   "metadata": {},
   "source": [
    "# 代理模式 Proxy Pattern\n",
    "\n",
    "按照使用目的划分，代理有如下几种：\n",
    "\n",
    "* 远程代理（Remote）\n",
    "* 虚拟代理（Virtual）根据需要延迟创建资源消耗较大的对象。\n",
    "* Copy-On-Write代理，虚拟代理的一种。把复制拖延到只有在客户端需要时才真正采取行动。\n",
    "* 保护代理（Protect or Access）提供对象的访问权限。\n",
    "* Cache代理\n",
    "* 防火墙代理（Firewall）\n",
    "* 同步化代理（Synchronization）使多用户访问一个对象时没有冲突。\n",
    "* 智能引用代理（Smart Reference）对一个对象的引用，提供额外操作，如引用次数。"
   ]
  },
  {
   "cell_type": "code",
   "execution_count": null,
   "metadata": {
    "dotnet_interactive": {
     "language": "csharp"
    },
    "vscode": {
     "languageId": "dotnet-interactive.csharp"
    }
   },
   "outputs": [],
   "source": [
    "#nullable enable\n",
    "\n",
    "public abstract class Subject{\n",
    "    public abstract void Request();\n",
    "}\n",
    "public class RealSubject:Subject{\n",
    "    public override void Request(){\n",
    "        Console.WriteLine(\"RealSubject Request\");\n",
    "    }\n",
    "}\n",
    "public class Proxy:Subject{\n",
    "    private Lazy<RealSubject> _realSubject = new();//使用Lazy进行延迟创建\n",
    "    public override void Request(){\n",
    "        PreRequest();\n",
    "        _realSubject.Value.Request();\n",
    "        PostRequest();\n",
    "    }\n",
    "    public void PreRequest(){\n",
    "        Console.WriteLine(\"Proxy PreRequest\");\n",
    "    }\n",
    "    public void PostRequest(){\n",
    "        Console.WriteLine(\"Proxy PostRequest\");\n",
    "    }\n",
    "}\n",
    "\n",
    "Proxy proxy = new();\n",
    "proxy.Request();\n"
   ]
  }
 ],
 "metadata": {
  "kernelspec": {
   "display_name": ".NET (C#)",
   "language": "C#",
   "name": ".net-csharp"
  },
  "language_info": {
   "file_extension": ".cs",
   "mimetype": "text/x-csharp",
   "name": "C#",
   "pygments_lexer": "csharp",
   "version": "9.0"
  },
  "orig_nbformat": 4
 },
 "nbformat": 4,
 "nbformat_minor": 2
}
