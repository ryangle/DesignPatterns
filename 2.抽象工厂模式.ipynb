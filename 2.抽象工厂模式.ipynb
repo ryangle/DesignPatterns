{
 "cells": [
  {
   "cell_type": "markdown",
   "metadata": {},
   "source": [
    "# 抽象工厂模式 Abstract Factory Pattern\n",
    "\n",
    "抽象工厂模式是工厂模式中最为抽象和一般性的一种形态。通常适用于构建多个系列对象的场景中，创建一组相关或者相互依赖的对象。\n",
    "\n",
    "当需要增加新的系列对象时，只要实现新的抽象工厂即可，很好的支持了“开/闭”原则。但是如果需要修改产品的生产方式，就需要修改所有工厂实现了。"
   ]
  },
  {
   "cell_type": "code",
   "execution_count": null,
   "metadata": {
    "dotnet_interactive": {
     "language": "csharp"
    },
    "vscode": {
     "languageId": "dotnet-interactive.csharp"
    }
   },
   "outputs": [],
   "source": [
    "#nullable enable\n",
    "\n",
    "public abstract class Light{\n",
    "    public bool SwitchState {get;protected set;}\n",
    "    public abstract void ToggleSwitch();\n",
    "}\n",
    "public class BulbLight : Light{\n",
    "    public override void ToggleSwitch(){\n",
    "        SwitchState = !SwitchState;\n",
    "        Console.WriteLine($\"Bulb light is {(SwitchState?\"on\":\"off\")}\");\n",
    "    }\n",
    "}\n",
    "public class TubeLight : Light {\n",
    "    public override void ToggleSwitch(){\n",
    "        SwitchState = !SwitchState;\n",
    "        Console.WriteLine($\"Tube light is {(SwitchState?\"on\":\"off\")}\");\n",
    "    }\n",
    "}\n",
    "\n",
    "public abstract class LightBase{\n",
    "    public abstract void Socket(Light light);\n",
    "}\n",
    "\n",
    "public class BulbLightBase : LightBase{\n",
    "    public override void Socket(Light light){\n",
    "        Console.WriteLine(\"socket a bulblight\");\n",
    "    }\n",
    "}\n",
    "\n",
    "public class TubeLightBase : LightBase{\n",
    "    public override void Socket(Light light){\n",
    "        Console.WriteLine(\"socket a tubelight\");\n",
    "    }\n",
    "}\n",
    "\n",
    "public abstract class LightFactory{\n",
    "    public abstract Light CreateLight();\n",
    "    public abstract LightBase CreateLightBase();\n",
    "    public abstract Light Install();\n",
    "}\n",
    "\n",
    "public class BulbLightFactory : LightFactory{\n",
    "    public override Light CreateLight(){\n",
    "        return new BulbLight();\n",
    "    }\n",
    "    public override LightBase CreateLightBase(){\n",
    "        return new BulbLightBase();\n",
    "    }\n",
    "    public override Light Install(){\n",
    "        LightBase lightBase = CreateLightBase();\n",
    "        Light light = CreateLight();\n",
    "        lightBase.Socket(light);\n",
    "        Console.WriteLine(\"install a bulblight\");\n",
    "        return light;\n",
    "    }\n",
    "}\n",
    "\n",
    "public class TubeLightFactory : LightFactory{\n",
    "    public override Light CreateLight(){\n",
    "        return new TubeLight();\n",
    "    }\n",
    "    public override LightBase CreateLightBase(){\n",
    "        return new TubeLightBase();\n",
    "    }\n",
    "    public override Light Install(){\n",
    "        LightBase lightBase = CreateLightBase();\n",
    "        Light light = CreateLight();\n",
    "        lightBase.Socket(light);\n",
    "        Console.WriteLine(\"install a tubelight\");\n",
    "        return light;\n",
    "    }\n",
    "}\n",
    "\n",
    "var factory1 = new BulbLightFactory();\n",
    "var factory2 = new TubeLightFactory();\n",
    "\n",
    "factory1.Install();\n",
    "factory2.Install();"
   ]
  }
 ],
 "metadata": {
  "kernelspec": {
   "display_name": ".NET (C#)",
   "language": "C#",
   "name": ".net-csharp"
  },
  "language_info": {
   "file_extension": ".cs",
   "mimetype": "text/x-csharp",
   "name": "C#",
   "pygments_lexer": "csharp",
   "version": "9.0"
  },
  "orig_nbformat": 4
 },
 "nbformat": 4,
 "nbformat_minor": 2
}
