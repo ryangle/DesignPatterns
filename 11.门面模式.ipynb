{
 "cells": [
  {
   "cell_type": "markdown",
   "metadata": {},
   "source": [
    "# 门面模式 Facade Pattern\n",
    "\n",
    "提供一个高层次的统一的接口用于外部与内部的各个子系统的通信。使客户端与子系统内部的复杂性分隔开。"
   ]
  },
  {
   "cell_type": "code",
   "execution_count": null,
   "metadata": {
    "dotnet_interactive": {
     "language": "csharp"
    },
    "vscode": {
     "languageId": "dotnet-interactive.csharp"
    }
   },
   "outputs": [],
   "source": [
    "#nullable enable\n",
    "\n",
    "public class Subsystem1{\n",
    "    public void Operation(){\n",
    "        Console.WriteLine(\"Subsystem1 operation\");\n",
    "    }\n",
    "}\n",
    "public class Subsystem2{\n",
    "    public void Operation(){\n",
    "        Console.WriteLine(\"Subsystem2 operation\");\n",
    "    }\n",
    "}\n",
    "public class Facade{\n",
    "    private Subsystem1 _subsystem1;\n",
    "    private Subsystem2 _subsystem2;\n",
    "    public Facade(Subsystem1 subsystem1,Subsystem2 subsystem2){\n",
    "        _subsystem1 = subsystem1;\n",
    "        _subsystem2 = subsystem2;\n",
    "    }\n",
    "    public void OperationWrapper(){\n",
    "        _subsystem1.Operation();\n",
    "        _subsystem2.Operation();\n",
    "    }\n",
    "}\n",
    "\n",
    "Subsystem1 subsystem1 = new();\n",
    "Subsystem2 subsystem2 = new();\n",
    "Facade facade = new(subsystem1,subsystem2);\n",
    "facade.OperationWrapper();"
   ]
  }
 ],
 "metadata": {
  "kernelspec": {
   "display_name": ".NET (C#)",
   "language": "C#",
   "name": ".net-csharp"
  },
  "language_info": {
   "file_extension": ".cs",
   "mimetype": "text/x-csharp",
   "name": "C#",
   "pygments_lexer": "csharp",
   "version": "9.0"
  },
  "orig_nbformat": 4
 },
 "nbformat": 4,
 "nbformat_minor": 2
}
