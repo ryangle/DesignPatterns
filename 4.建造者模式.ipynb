{
 "cells": [
  {
   "cell_type": "markdown",
   "metadata": {},
   "source": [
    "# 建造者模式 Builder Pattern\n",
    "\n",
    "当需要创建很复杂的对象（通常是由很多其他对象组合而成）时，最好把复杂对象的创建过程放到独立的类中完成。在一步步的构建过程中，还可以引入参数，从而创建出多种复杂对象。\n",
    "\n",
    "建造者模式中可以包含Builder、Director、Product角色，其中Builder和Director可以合并统一成Builder完成。"
   ]
  },
  {
   "cell_type": "code",
   "execution_count": null,
   "metadata": {
    "dotnet_interactive": {
     "language": "csharp"
    },
    "vscode": {
     "languageId": "dotnet-interactive.csharp"
    }
   },
   "outputs": [],
   "source": [
    "#nullable enable\n",
    "\n",
    "public record Vehicle(string Name,string Frame,string Engine,int Wheels);\n",
    "\n",
    "public class CarBuilder{\n",
    "    public Vehicle Build(){\n",
    "        return new Vehicle(\"Car\",\"Car frame\",\"3000 cc\",4);\n",
    "    }\n",
    "}\n",
    "public class MotorCycleBuilder{\n",
    "    public Vehicle Build(){\n",
    "        return new Vehicle(\"MotorCycle\",\"MotorCycle frame\",\"500 cc\",2);\n",
    "    }\n",
    "}\n",
    "\n",
    "var carBuilder = new CarBuilder();\n",
    "var car = carBuilder.Build();\n",
    "var motorCycleBuilder = new MotorCycleBuilder();\n",
    "var motorCycle = motorCycleBuilder.Build();\n",
    "\n",
    "Console.WriteLine(car);\n",
    "Console.WriteLine(motorCycle);"
   ]
  },
  {
   "cell_type": "markdown",
   "metadata": {},
   "source": [
    "建造者模式与工厂模式功能上很类似，主要区别是建造者模式强调一步步的创建过程，相同的创建过程可以获得不同的对象。"
   ]
  }
 ],
 "metadata": {
  "kernelspec": {
   "display_name": ".NET (C#)",
   "language": "C#",
   "name": ".net-csharp"
  },
  "language_info": {
   "file_extension": ".cs",
   "mimetype": "text/x-csharp",
   "name": "C#",
   "pygments_lexer": "csharp",
   "version": "9.0"
  },
  "orig_nbformat": 4
 },
 "nbformat": 4,
 "nbformat_minor": 2
}
