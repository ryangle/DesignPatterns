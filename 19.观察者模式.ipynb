{
 "cells": [
  {
   "cell_type": "markdown",
   "metadata": {},
   "source": [
    "# 观察者模式 Observer Pattern\n",
    "\n",
    "观察者模式又叫做发布-订阅（Publish/Subscribe）模式、模型-视图（Model/View）模式、源-监听器（Source/Listener）模式、从属者（Dependents）模式。\n",
    "\n",
    "观察者模式定义了一种一对多的依赖关系，让多个观察者对象同时监听一个主题对象。当这个主题对象发生变化时，通知所有观察者对象。"
   ]
  },
  {
   "cell_type": "code",
   "execution_count": null,
   "metadata": {
    "dotnet_interactive": {
     "language": "csharp"
    },
    "vscode": {
     "languageId": "dotnet-interactive.csharp"
    }
   },
   "outputs": [],
   "source": [
    "#nullable enable\n",
    "\n",
    "public delegate void UpdateDelegate();\n",
    "public class Subject{\n",
    "    public event UpdateDelegate? UpdateHandler;\n",
    "    public void Notify(){\n",
    "        UpdateHandler?.Invoke();\n",
    "    }\n",
    "}\n",
    "public class ConcreteSubject:Subject{\n",
    "    public string? SubjectState {get;set;}\n",
    "}\n",
    "public class ConcreteObserver1{\n",
    "    private string _name;\n",
    "    private string? _observerState;\n",
    "    private ConcreteSubject _subject;\n",
    "    public ConcreteObserver1(ConcreteSubject subject,string name){\n",
    "        _subject = subject;\n",
    "        _name = name;\n",
    "    }\n",
    "    public void Update(){\n",
    "        _observerState = _subject.SubjectState;\n",
    "        Console.WriteLine($\"Observer1 {_name}'s new state is {_observerState}\");\n",
    "    }\n",
    "}\n",
    "public class ConcreteObserver2{\n",
    "    public void Show(){\n",
    "        Console.WriteLine($\"Observer2 show\");\n",
    "    }\n",
    "}\n",
    "\n",
    "ConcreteSubject s =  new();\n",
    "ConcreteObserver1 o1 = new(s,\"1\");\n",
    "ConcreteObserver1 o2 = new(s,\"2\");\n",
    "ConcreteObserver2 o3 = new();\n",
    "\n",
    "s.UpdateHandler += o1.Update;\n",
    "s.UpdateHandler += o2.Update;\n",
    "s.UpdateHandler += o3.Show;\n",
    "\n",
    "s.SubjectState = \"S1\";\n",
    "s.Notify();\n",
    "\n",
    "s.UpdateHandler -= o1.Update;\n",
    "s.SubjectState = \"S2\";\n",
    "\n",
    "s.Notify();"
   ]
  },
  {
   "cell_type": "markdown",
   "metadata": {},
   "source": [
    "观察者模式应该注意：\n",
    "\n",
    "1. 当被观察者有很多观察者时，通知所有观察者会花费更多的时间。\n",
    "2. 如果观察者和被观察者之间存在循环依赖可能会导致系统崩溃。"
   ]
  }
 ],
 "metadata": {
  "kernelspec": {
   "display_name": ".NET (C#)",
   "language": "C#",
   "name": ".net-csharp"
  },
  "language_info": {
   "file_extension": ".cs",
   "mimetype": "text/x-csharp",
   "name": "C#",
   "pygments_lexer": "csharp",
   "version": "9.0"
  },
  "orig_nbformat": 4
 },
 "nbformat": 4,
 "nbformat_minor": 2
}
