{
 "cells": [
  {
   "cell_type": "markdown",
   "metadata": {},
   "source": [
    "# 单例模式 Singleton Patten\n",
    "\n",
    "单例类在整个系统中只能有一个实例，应该自己创建这个唯一的实例并且为其他对象提供。"
   ]
  },
  {
   "cell_type": "code",
   "execution_count": null,
   "metadata": {
    "dotnet_interactive": {
     "language": "csharp"
    },
    "vscode": {
     "languageId": "dotnet-interactive.csharp"
    }
   },
   "outputs": [],
   "source": [
    "#nullable enable\n",
    "\n",
    "public class Singleton{\n",
    "    private static Singleton? _instance;\n",
    "    private static object _lock = new object();\n",
    "    protected Singleton(){}\n",
    "    //实例化的过程中，使用了Double chack，实现线程安全。\n",
    "    public static Singleton Instance{\n",
    "        get {\n",
    "            if(_instance == null){\n",
    "                lock(_lock){\n",
    "                    if(_instance == null){\n",
    "                        _instance =  new Singleton();\n",
    "                    }\n",
    "                }\n",
    "            }\n",
    "            return _instance;\n",
    "        }\n",
    "    }\n",
    "    public void Work(){\n",
    "        Console.WriteLine(\"Singleton works!\");\n",
    "    }\n",
    "}\n",
    "\n",
    "Singleton.Instance.Work();"
   ]
  },
  {
   "cell_type": "markdown",
   "metadata": {},
   "source": [
    "另一种实现方式：\n",
    "用private限制构造函数的访问，利用static readonly在程序初始化时就被实例化，保证在使用过程中不会被修改。\n",
    "缺点是没有延迟初始化，会影响程序启动速度。"
   ]
  },
  {
   "cell_type": "code",
   "execution_count": null,
   "metadata": {
    "dotnet_interactive": {
     "language": "csharp"
    },
    "vscode": {
     "languageId": "dotnet-interactive.csharp"
    }
   },
   "outputs": [],
   "source": [
    "public class Singleton{\n",
    "    private Singleton(){}\n",
    "    public static readonly Singleton Instance = new Singleton();\n",
    "    public void Work(){\n",
    "        Console.WriteLine(\"Singleton works!\");\n",
    "    }\n",
    "\n",
    "}\n",
    "\n",
    "Singleton.Instance.Work();"
   ]
  }
 ],
 "metadata": {
  "kernelspec": {
   "display_name": ".NET (C#)",
   "language": "C#",
   "name": ".net-csharp"
  },
  "language_info": {
   "file_extension": ".cs",
   "mimetype": "text/x-csharp",
   "name": "C#",
   "pygments_lexer": "csharp",
   "version": "9.0"
  },
  "orig_nbformat": 4
 },
 "nbformat": 4,
 "nbformat_minor": 2
}
