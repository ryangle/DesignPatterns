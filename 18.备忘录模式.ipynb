{
 "cells": [
  {
   "cell_type": "markdown",
   "metadata": {},
   "source": [
    "# 备忘录模式 Memento Pattern\n",
    "\n",
    "在不破坏封装的前提下捕获并保存一个类的内部状态，这样就可以利用该保存的状态实施恢复操作。"
   ]
  },
  {
   "cell_type": "code",
   "execution_count": null,
   "metadata": {
    "dotnet_interactive": {
     "language": "csharp"
    },
    "vscode": {
     "languageId": "dotnet-interactive.csharp"
    }
   },
   "outputs": [],
   "source": [
    "#nullable enable\n",
    "\n",
    "public class Originator{\n",
    "    public string? State {get;set;}\n",
    "    public Memento CreateMemento(){\n",
    "        return new Memento(State);\n",
    "    }\n",
    "    public void RestoreToMemento(Memento memento){\n",
    "        State = memento.State;\n",
    "    }\n",
    "    public void Show(){\n",
    "        Console.WriteLine($\"Originator's state is {State}\");\n",
    "    }\n",
    "}\n",
    "public class Memento{\n",
    "    public string? State {get;}\n",
    "    public Memento(string? state){\n",
    "        State = state;\n",
    "    }\n",
    "}\n",
    "\n",
    "Originator originator = new();\n",
    "originator.State = \"old state\";\n",
    "originator.Show();\n",
    "\n",
    "var memento = originator.CreateMemento();\n",
    "\n",
    "originator.State = \"new state\";\n",
    "originator.Show();\n",
    "\n",
    "originator.RestoreToMemento(memento);\n",
    "originator.Show();"
   ]
  }
 ],
 "metadata": {
  "kernelspec": {
   "display_name": ".NET (C#)",
   "language": "C#",
   "name": ".net-csharp"
  },
  "language_info": {
   "file_extension": ".cs",
   "mimetype": "text/x-csharp",
   "name": "C#",
   "pygments_lexer": "csharp",
   "version": "9.0"
  },
  "orig_nbformat": 4
 },
 "nbformat": 4,
 "nbformat_minor": 2
}
