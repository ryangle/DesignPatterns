{
 "cells": [
  {
   "cell_type": "markdown",
   "metadata": {},
   "source": [
    "# 享元模式模式 Flyweight Pattern\n",
    "\n",
    "Flyweight意思是蝇量级、羽量级，中文使用享元是为了更能反映模式的用意。\n",
    "\n",
    "享元模式以共享的方式高效的支持大量的细粒度对象。享元对象包括内部状态和外部状态。内部状态是存储在对象内部，可以共享。外部状态是由客户端创建保存，使用时才传入到对象内部，不可以共享。"
   ]
  },
  {
   "cell_type": "code",
   "execution_count": null,
   "metadata": {
    "dotnet_interactive": {
     "language": "csharp"
    },
    "vscode": {
     "languageId": "dotnet-interactive.csharp"
    }
   },
   "outputs": [],
   "source": [
    "#nullable enable\n",
    "\n",
    "public abstract class Flyweight{\n",
    "    public abstract void Operation(int extrinsicState);\n",
    "}\n",
    "public class ConcreteFlyweight:Flyweight{\n",
    "    private string _intrinsicState;\n",
    "    public ConcreteFlyweight(string intrinsicState){\n",
    "        _intrinsicState = intrinsicState;\n",
    "    }\n",
    "    public override void Operation(int extrinsicState){\n",
    "        Console.WriteLine($\"Flyweight intrinsicState:{_intrinsicState},extrinsicState:{extrinsicState}\");\n",
    "    }\n",
    "}\n",
    "\n",
    "public class FlyweightFactory{\n",
    "    private Dictionary<string,Flyweight> _flyweights = new();\n",
    "    \n",
    "    public Flyweight GetFlyweight(string key){\n",
    "        if(_flyweights.TryGetValue(key,out var flyweight)){\n",
    "            return flyweight;\n",
    "        } \n",
    "        ConcreteFlyweight f = new(key);\n",
    "        _flyweights.Add(key,f);\n",
    "        return f;\n",
    "    }\n",
    "}\n",
    "\n",
    "int extrinsicState = 22;\n",
    "FlyweightFactory factory = new();\n",
    "var fx = factory.GetFlyweight(\"X\");\n",
    "fx?.Operation(extrinsicState--);\n",
    "\n",
    "var fy = factory.GetFlyweight(\"Y\");\n",
    "fy?.Operation(extrinsicState--);\n",
    "\n",
    "var fz = factory.GetFlyweight(\"Z\");\n",
    "fz?.Operation(extrinsicState--);\n",
    "\n"
   ]
  }
 ],
 "metadata": {
  "kernelspec": {
   "display_name": ".NET (C#)",
   "language": "C#",
   "name": ".net-csharp"
  },
  "language_info": {
   "file_extension": ".cs",
   "mimetype": "text/x-csharp",
   "name": "C#",
   "pygments_lexer": "csharp",
   "version": "9.0"
  },
  "orig_nbformat": 4
 },
 "nbformat": 4,
 "nbformat_minor": 2
}
