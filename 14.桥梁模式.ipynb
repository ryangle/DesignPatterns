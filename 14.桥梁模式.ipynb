{
 "cells": [
  {
   "cell_type": "markdown",
   "metadata": {},
   "source": [
    "# 桥梁模式 Bridge Pattern\n",
    "\n",
    "将抽象层与实现层解耦，使得二者可以独立变化。\n",
    "\n",
    "抽象层就是把多个实体中共同的概念提取出来，从而可以把这些实体同等对待。\n",
    "\n",
    "实现层就是对抽象给出具体的实现。\n",
    "\n",
    "这里的实现不是指继承基类、实现接口，而是指通过对象的组合实现用户的需求。\n",
    "\n",
    "桥梁模式使对象的结构模式，又称为柄体模式(Handle and body)或接口模式（Interface）。"
   ]
  },
  {
   "cell_type": "code",
   "execution_count": null,
   "metadata": {
    "dotnet_interactive": {
     "language": "csharp"
    },
    "vscode": {
     "languageId": "dotnet-interactive.csharp"
    }
   },
   "outputs": [],
   "source": [
    "#nullable enable\n",
    "\n",
    "public class Abstraction{\n",
    "    public Implementor? Implementor {get;set;}\n",
    "    public virtual void Operation(){\n",
    "        Implementor?.Operation();\n",
    "    }\n",
    "}\n",
    "public class RefinedAbstraction : Abstraction{\n",
    "    public override void Operation(){\n",
    "        Implementor?.Operation();\n",
    "    }\n",
    "}\n",
    "public abstract class Implementor{\n",
    "    public abstract void Operation();\n",
    "}\n",
    "public class ConcreteImplementorA:Implementor{\n",
    "    public override void Operation(){\n",
    "        Console.WriteLine(\"ConcreteImplementorA Operarion\");\n",
    "    }\n",
    "}\n",
    "public class ConcreteImplementorB:Implementor{\n",
    "    public override void Operation(){\n",
    "        Console.WriteLine(\"ConcreteImplementorB Operarion\");\n",
    "    }\n",
    "}\n",
    "\n",
    "Abstraction abstraction = new RefinedAbstraction();\n",
    "abstraction.Implementor = new ConcreteImplementorA();\n",
    "abstraction.Operation();\n",
    "\n",
    "abstraction.Implementor = new ConcreteImplementorB();\n",
    "abstraction.Operation();"
   ]
  }
 ],
 "metadata": {
  "kernelspec": {
   "display_name": ".NET (C#)",
   "language": "C#",
   "name": ".net-csharp"
  },
  "language_info": {
   "file_extension": ".cs",
   "mimetype": "text/x-csharp",
   "name": "C#",
   "pygments_lexer": "csharp",
   "version": "9.0"
  },
  "orig_nbformat": 4
 },
 "nbformat": 4,
 "nbformat_minor": 2
}
