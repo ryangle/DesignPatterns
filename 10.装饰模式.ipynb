{
 "cells": [
  {
   "cell_type": "markdown",
   "metadata": {},
   "source": [
    "# 装饰模式 Decorator Pattern\n",
    "\n",
    "我们需要给一个已经定义好的类添加新的功能时，通常情况下会用这个定义好的类派生一个新类，但是这样通过继承的方式会带来系统的复杂性，因为继承的深度会变得很深。\n",
    "Decorator不是通过继承而是组合来给类添加新功能的。"
   ]
  },
  {
   "cell_type": "code",
   "execution_count": null,
   "metadata": {
    "dotnet_interactive": {
     "language": "csharp"
    },
    "vscode": {
     "languageId": "dotnet-interactive.csharp"
    }
   },
   "outputs": [
    {
     "name": "stdout",
     "output_type": "stream",
     "text": [
      "Book {Author = Gof,Title = DesignPatterns,Copies = 2}\r\n",
      "Book {Author = Gof,Title = DesignPatterns,Copies = 1}\r\n"
     ]
    }
   ],
   "source": [
    "#nullable enable\n",
    "\n",
    "//通过装饰模式为图书馆的书和录像带添加“可借阅”的装饰\n",
    "public abstract class LibraryItem{\n",
    "    public int Copies {get;set;}\n",
    "    public abstract void Add(int num);\n",
    "}\n",
    "\n",
    "public class Book : LibraryItem {\n",
    "    public string Author {get;set;}\n",
    "    public string Title {get;set;}\n",
    "    public Book(string author,string title,int copies){\n",
    "        Author = author;\n",
    "        Title = title;\n",
    "        Copies = copies;\n",
    "    }\n",
    "    public override void Add(int num){\n",
    "        if(num < 0) return;\n",
    "        Copies += num;\n",
    "    }\n",
    "    public override string ToString(){\n",
    "        return $\"Book {{Author = {Author},Title = {Title},Copies = {Copies}}}\";\n",
    "    }\n",
    "}\n",
    "public class Video : LibraryItem {\n",
    "    public string Director {get;set;}\n",
    "    public string Title {get;set;}\n",
    "    public int PlayTime {get;set;}\n",
    "    public Video(string director,string title,int playTime,int copies){\n",
    "        Director = director;\n",
    "        Title = title;\n",
    "        PlayTime = playTime;\n",
    "        Copies = copies;\n",
    "    }\n",
    "    public override void Add(int num){\n",
    "        if(num < 0) return;\n",
    "        Copies += num;\n",
    "    }\n",
    "    public override string ToString(){\n",
    "        return $\"Video {{Director = {Director},Title = {Title},Copies = {Copies}}}\";\n",
    "    }\n",
    "}\n",
    "//ConcreteDecorator 为LibraryItem增加Borrow方法\n",
    "public class BorrowableItem : LibraryItem{\n",
    "    private readonly LibraryItem _libraryItem;\n",
    "    public BorrowableItem(LibraryItem libraryItem){\n",
    "        _libraryItem = libraryItem;\n",
    "    }\n",
    "    public override void Add(int num){\n",
    "        _libraryItem.Add(num);\n",
    "    }\n",
    "    public void Borrow(int num){\n",
    "        if(num < 0) return;\n",
    "        _libraryItem.Copies -= num;\n",
    "    }\n",
    "    public override string? ToString(){\n",
    "        return _libraryItem.ToString();\n",
    "    }\n",
    "}\n",
    "\n",
    "Book book = new(\"Gof\",\"DesignPatterns\",2);\n",
    "BorrowableItem bookBorrowable = new(book);\n",
    "Console.WriteLine(bookBorrowable);\n",
    "bookBorrowable.Borrow(1);\n",
    "Console.WriteLine(bookBorrowable);\n",
    "\n",
    "Video video = new(\"Gof\",\"DesignPatterns video\",3600,5);\n",
    "BorrowableItem videoBorrowable = new(video);\n",
    "Console.WriteLine(videoBorrowable);\n",
    "videoBorrowable.Borrow(2);\n",
    "Console.WriteLine(videoBorrowable);\n"
   ]
  }
 ],
 "metadata": {
  "kernelspec": {
   "display_name": ".NET (C#)",
   "language": "C#",
   "name": ".net-csharp"
  },
  "language_info": {
   "file_extension": ".cs",
   "mimetype": "text/x-csharp",
   "name": "C#",
   "pygments_lexer": "csharp",
   "version": "9.0"
  },
  "orig_nbformat": 4
 },
 "nbformat": 4,
 "nbformat_minor": 2
}
