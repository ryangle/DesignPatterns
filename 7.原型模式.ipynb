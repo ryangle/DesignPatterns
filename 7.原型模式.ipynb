{
 "cells": [
  {
   "cell_type": "markdown",
   "metadata": {},
   "source": [
    "# 原型模式 Prototype Pattern\n",
    "\n",
    "通过给出一个原型对象来指明所要创建的对象类型，然后用复制这个原型的方法创建出更多同类型的对象。"
   ]
  },
  {
   "cell_type": "code",
   "execution_count": null,
   "metadata": {
    "dotnet_interactive": {
     "language": "csharp"
    },
    "vscode": {
     "languageId": "dotnet-interactive.csharp"
    }
   },
   "outputs": [
    {
     "name": "stdout",
     "output_type": "stream",
     "text": [
      "Color {Red = 255,Green = 0,Blue = 0}\r\n",
      "Color {Red = 255,Green = 0,Blue = 0}\r\n"
     ]
    }
   ],
   "source": [
    "#nullable enable\n",
    "\n",
    "public class Color{\n",
    "    public int Red {get;set;} \n",
    "    public int Green {get;set;} \n",
    "    public int Blue {get;set;} \n",
    "    public Color Clone(){\n",
    "        return new Color{\n",
    "            Red = this.Red,\n",
    "            Green = this.Green,\n",
    "            Blue = this.Blue\n",
    "        };\n",
    "    }\n",
    "    public override string ToString(){\n",
    "        return $\"Color {{Red = {Red},Green = {Green},Blue = {Blue}}}\";\n",
    "    }\n",
    "}\n",
    "\n",
    "var redColor = new Color {Red = 255,Green = 0,Blue =  0};\n",
    "var redColorClone = redColor.Clone();\n",
    "\n",
    "Console.WriteLine(redColor);\n",
    "Console.WriteLine(redColorClone);"
   ]
  },
  {
   "cell_type": "markdown",
   "metadata": {},
   "source": [
    "拷贝的时候要注意深拷贝和浅拷贝"
   ]
  }
 ],
 "metadata": {
  "kernelspec": {
   "display_name": ".NET (C#)",
   "language": "C#",
   "name": ".net-csharp"
  },
  "language_info": {
   "file_extension": ".cs",
   "mimetype": "text/x-csharp",
   "name": "C#",
   "pygments_lexer": "csharp",
   "version": "9.0"
  },
  "orig_nbformat": 4
 },
 "nbformat": 4,
 "nbformat_minor": 2
}
