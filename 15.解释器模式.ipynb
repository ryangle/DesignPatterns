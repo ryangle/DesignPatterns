{
 "cells": [
  {
   "cell_type": "markdown",
   "metadata": {},
   "source": [
    "# 解释器模式 Interpreter Pattern\n",
    "\n",
    "解释器模式是为了让用户可以定义一个内建（build-in）的脚本或者语言以在系统中执行操作。解释器就是用于解释这个内建语言中的句子。\n",
    "\n",
    "在这个解释器的框架中，提供了TerminalExpression和NonterminalExpression两种表达式的解释方式，Context用于为解释过程提供附加的信息。"
   ]
  },
  {
   "cell_type": "code",
   "execution_count": null,
   "metadata": {
    "dotnet_interactive": {
     "language": "csharp"
    },
    "vscode": {
     "languageId": "dotnet-interactive.csharp"
    }
   },
   "outputs": [],
   "source": [
    "#nullable enable\n",
    "\n",
    "public class Context{}\n",
    "\n",
    "public abstract class AbstractExpression{\n",
    "    public abstract void Interpret(Context context);\n",
    "}\n",
    "\n",
    "public class TerminalExpression:AbstractExpression{\n",
    "    private string _statement;\n",
    "    public TerminalExpression(string statement){\n",
    "        _statement = statement;\n",
    "    }\n",
    "    public override void Interpret(Context context){\n",
    "        Console.WriteLine($\"TerminalExpression Interpret {_statement}\");\n",
    "    }\n",
    "}\n",
    "public class NonterminalExpression:AbstractExpression{\n",
    "    private AbstractExpression _expression;\n",
    "    private int _times;\n",
    "    public NonterminalExpression(AbstractExpression expression,int times){\n",
    "        _expression = expression;\n",
    "        _times = times;\n",
    "    }\n",
    "    public override void Interpret(Context context){\n",
    "        for(var i = 0;i < _times;i++){\n",
    "            _expression.Interpret(context);\n",
    "        }\n",
    "    }\n",
    "}\n",
    "\n",
    "Context context = new();\n",
    "\n",
    "AbstractExpression teminal = new TerminalExpression(\"hello\");\n",
    "AbstractExpression nonteminal = new NonterminalExpression(teminal,3);\n",
    "\n",
    "nonteminal.Interpret(context);"
   ]
  }
 ],
 "metadata": {
  "kernelspec": {
   "display_name": ".NET (C#)",
   "language": "C#",
   "name": ".net-csharp"
  },
  "language_info": {
   "file_extension": ".cs",
   "mimetype": "text/x-csharp",
   "name": "C#",
   "pygments_lexer": "csharp",
   "version": "9.0"
  },
  "orig_nbformat": 4
 },
 "nbformat": 4,
 "nbformat_minor": 2
}
