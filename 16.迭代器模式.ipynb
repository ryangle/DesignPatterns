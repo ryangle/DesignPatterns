{
 "cells": [
  {
   "cell_type": "markdown",
   "metadata": {},
   "source": [
    "# 迭代器模式 Iterator Pattern\n",
    "\n",
    "迭代器是用来解决对一个聚合对象的遍历问题，将对聚合的遍历封装到一个类中可以避免暴露这个聚合对象的内部。"
   ]
  },
  {
   "cell_type": "markdown",
   "metadata": {},
   "source": [
    "下面是一个实现方法："
   ]
  },
  {
   "cell_type": "code",
   "execution_count": null,
   "metadata": {
    "dotnet_interactive": {
     "language": "csharp"
    },
    "vscode": {
     "languageId": "dotnet-interactive.csharp"
    }
   },
   "outputs": [],
   "source": [
    "#nullable enable\n",
    "\n",
    "public abstract class Iterator<T>{\n",
    "    public abstract void First();\n",
    "    public abstract void Next();\n",
    "    public abstract bool IsDone();\n",
    "    public abstract T? CurrentItem();\n",
    "}\n",
    "public abstract class Aggregate<T>{\n",
    "    public abstract void AddItem(T item);\n",
    "    public abstract T? GetItem(int index);\n",
    "    public abstract int GetSize();\n",
    "    public abstract Iterator<T> CreateIterator();\n",
    "}\n",
    "public class ConcreteAggregate<T>:Aggregate<T>{\n",
    "    private List<T> _items = new();\n",
    "    public override void AddItem(T item){\n",
    "        _items.Add(item);\n",
    "    }\n",
    "    public override T? GetItem(int index){\n",
    "        if(index < GetSize()){\n",
    "            return _items[index];\n",
    "        }\n",
    "        return default(T);\n",
    "    }\n",
    "    public override int GetSize(){\n",
    "        return _items.Count;\n",
    "    }\n",
    "    public override Iterator<T> CreateIterator(){\n",
    "        return new ConcreteIterator<T>(this);\n",
    "    }\n",
    "}\n",
    "public class ConcreteIterator<T>:Iterator<T>{\n",
    "    private Aggregate<T> _aggregate;\n",
    "    private int _index;\n",
    "    public ConcreteIterator(Aggregate<T> aggregate){\n",
    "        _aggregate = aggregate;\n",
    "        _index = 0;\n",
    "    }\n",
    "    public override T? CurrentItem(){\n",
    "        return _aggregate.GetItem(_index);\n",
    "    }\n",
    "    public override void First(){\n",
    "        _index = 0;\n",
    "    }\n",
    "    public override void Next(){\n",
    "        if(_index<_aggregate.GetSize()){\n",
    "            _index++;\n",
    "        }\n",
    "    }\n",
    "    public override bool IsDone(){\n",
    "        return _index == _aggregate.GetSize();\n",
    "    }\n",
    "}\n",
    "\n",
    "Aggregate<int> aggregate = new ConcreteAggregate<int>();\n",
    "aggregate.AddItem(1);\n",
    "aggregate.AddItem(2);\n",
    "aggregate.AddItem(3);\n",
    "aggregate.AddItem(4);\n",
    "\n",
    "Iterator<int> iterator = aggregate.CreateIterator();\n",
    "\n",
    "while(!iterator.IsDone()){\n",
    "    Console.WriteLine($\"aggregate current item is {iterator.CurrentItem()}\");\n",
    "    iterator.Next();\n",
    "}"
   ]
  },
  {
   "cell_type": "markdown",
   "metadata": {},
   "source": [
    "在C#中，可以通过实现`IEnumerable<T>`和`IEnumerator<T>`接口简单的完成："
   ]
  },
  {
   "cell_type": "code",
   "execution_count": null,
   "metadata": {
    "dotnet_interactive": {
     "language": "csharp"
    },
    "vscode": {
     "languageId": "dotnet-interactive.csharp"
    }
   },
   "outputs": [],
   "source": [
    "public class ConcreteAggregate:IEnumerable<int>{\n",
    "    private int[] _items;\n",
    "    public ConcreteAggregate(int[] items){\n",
    "        _items = items;\n",
    "    }\n",
    "    IEnumerator<int> IEnumerable<int>.GetEnumerator(){\n",
    "        return new ConcreteIterator(_items);\n",
    "    }\n",
    "    IEnumerator IEnumerable.GetEnumerator(){\n",
    "        return new ConcreteIterator(_items);\n",
    "    }\n",
    "}\n",
    "public class ConcreteIterator:IEnumerator<int>{\n",
    "    private int[] _items;\n",
    "    private int _index;\n",
    "    private int _current;\n",
    "    public ConcreteIterator(int[] items){\n",
    "        _items = items;\n",
    "    }\n",
    "    int IEnumerator<int>.Current =>_current;\n",
    "    object IEnumerator.Current =>_current;\n",
    "    void IDisposable.Dispose(){\n",
    "        \n",
    "    }\n",
    "    public bool MoveNext()\n",
    "    {\n",
    "        _index++;\n",
    "        if (_index >= _items.Length) { return false; }\n",
    "        else { _current = _items[_index]; }\n",
    "        return true;\n",
    "    }\n",
    "    public void Reset()\n",
    "    {\n",
    "        _index = -1;\n",
    "    }\n",
    "}\n",
    "\n",
    "ConcreteAggregate concreteAggregate = new(new int[]{1,2,4,6,73,9});\n",
    "foreach(var a in concreteAggregate){\n",
    "    Console.WriteLine(a.ToString());\n",
    "}"
   ]
  }
 ],
 "metadata": {
  "kernelspec": {
   "display_name": ".NET (C#)",
   "language": "C#",
   "name": ".net-csharp"
  },
  "language_info": {
   "file_extension": ".cs",
   "mimetype": "text/x-csharp",
   "name": "C#",
   "pygments_lexer": "csharp",
   "version": "9.0"
  },
  "orig_nbformat": 4
 },
 "nbformat": 4,
 "nbformat_minor": 2
}
