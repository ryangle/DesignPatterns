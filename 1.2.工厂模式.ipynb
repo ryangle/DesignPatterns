{
 "cells": [
  {
   "cell_type": "markdown",
   "metadata": {},
   "source": [
    "# 工厂模式 Factory Pattern\n",
    "\n",
    "与简单工厂模式不同的是，工厂类也做一次抽象。客户端依赖于抽象的工厂类，而每个具体产品都有各自的工厂类实现。所以也叫多态性工厂模式。"
   ]
  },
  {
   "cell_type": "code",
   "execution_count": null,
   "metadata": {
    "dotnet_interactive": {
     "language": "csharp"
    },
    "vscode": {
     "languageId": "dotnet-interactive.csharp"
    }
   },
   "outputs": [],
   "source": [
    "#nullable enable\n",
    "\n",
    "public abstract class Light{\n",
    "    public bool SwitchState {get;protected set;}\n",
    "    public abstract void ToggleSwitch();\n",
    "}\n",
    "public class BulbLight : Light{\n",
    "    public override void ToggleSwitch(){\n",
    "        SwitchState = !SwitchState;\n",
    "        Console.WriteLine($\"Bulb light is {(SwitchState?\"on\":\"off\")}\");\n",
    "    }\n",
    "}\n",
    "public class TubeLight : Light {\n",
    "    public override void ToggleSwitch(){\n",
    "        SwitchState = !SwitchState;\n",
    "        Console.WriteLine($\"Tube light is {(SwitchState?\"on\":\"off\")}\");\n",
    "    }\n",
    "}\n",
    "\n",
    "public abstract class LightFactory{\n",
    "    public abstract Light Create();\n",
    "}\n",
    "\n",
    "public class BulbLightFactory : LightFactory{\n",
    "    public override Light Create(){\n",
    "        return new BulbLight();\n",
    "    }\n",
    "}\n",
    "\n",
    "public class TubeLightFactory : LightFactory{\n",
    "    public override Light Create(){\n",
    "        return new TubeLight();\n",
    "    }\n",
    "}\n",
    "\n",
    "var factory1 = new BulbLightFactory();\n",
    "var factory2 = new TubeLightFactory();\n",
    "\n",
    "var light = factory1.Create();\n",
    "light.ToggleSwitch();\n",
    "light.ToggleSwitch();\n",
    "\n",
    "light = factory2.Create();\n",
    "light.ToggleSwitch();\n",
    "light.ToggleSwitch();"
   ]
  },
  {
   "cell_type": "markdown",
   "metadata": {},
   "source": [
    "和工厂模式有关或接近的模式包括：\n",
    "模板方法模式、享元模式"
   ]
  }
 ],
 "metadata": {
  "kernelspec": {
   "display_name": ".NET (C#)",
   "language": "C#",
   "name": ".net-csharp"
  },
  "language_info": {
   "file_extension": ".cs",
   "mimetype": "text/x-csharp",
   "name": "C#",
   "pygments_lexer": "csharp",
   "version": "9.0"
  },
  "orig_nbformat": 4
 },
 "nbformat": 4,
 "nbformat_minor": 2
}
