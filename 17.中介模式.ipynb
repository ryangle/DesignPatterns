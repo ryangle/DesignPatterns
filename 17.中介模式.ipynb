{
 "cells": [
  {
   "cell_type": "markdown",
   "metadata": {},
   "source": [
    "# 中介模式 Mediator Pattern\n",
    "\n",
    "将对象间的交互和通讯封装在一个类中，各个对象间的通讯不必显式的声明和引用。这样就大大降低了系统的复制性和耦合程度。"
   ]
  },
  {
   "cell_type": "code",
   "execution_count": null,
   "metadata": {
    "dotnet_interactive": {
     "language": "csharp"
    },
    "vscode": {
     "languageId": "dotnet-interactive.csharp"
    }
   },
   "outputs": [],
   "source": [
    "#nullable enable\n",
    "\n",
    "public abstract class Colleage{\n",
    "    public abstract void Action();\n",
    "    public string? State {get;set;}\n",
    "    public Mediator? Mediator {get;set;}\n",
    "}\n",
    "public class ConcreteColleageA:Colleage{\n",
    "    public override void Action(){\n",
    "        Mediator?.DoActionFromAtoB();\n",
    "    }\n",
    "}\n",
    "public class ConcreteColleageB:Colleage{\n",
    "    public override void Action(){\n",
    "        Mediator?.DoActionFromBtoA();\n",
    "    }\n",
    "}\n",
    "public abstract class Mediator{\n",
    "    protected Colleage _colleageA;\n",
    "    protected Colleage _colleageB;\n",
    "    public Mediator(Colleage colleageA,Colleage colleagB){\n",
    "        _colleageA = colleageA;\n",
    "        _colleageB = colleagB;\n",
    "    }\n",
    "    public abstract void DoActionFromAtoB();\n",
    "    public abstract void DoActionFromBtoA();\n",
    "}\n",
    "public class ConcreteMediator:Mediator{\n",
    "    public ConcreteMediator(Colleage colleageA,Colleage colleagB):base(colleageA,colleagB){}\n",
    "    public override void DoActionFromAtoB(){\n",
    "        _colleageB.State = _colleageA.State;\n",
    "    }\n",
    "    public override void DoActionFromBtoA(){\n",
    "        _colleageA.State = _colleageB.State;\n",
    "    }\n",
    "\n",
    "}\n",
    "\n",
    "ConcreteColleageA colleageA = new();\n",
    "ConcreteColleageB colleageB = new();\n",
    "ConcreteMediator mediator = new(colleageA,colleageB);\n",
    "colleageA.Mediator = mediator;\n",
    "colleageB.Mediator = mediator;\n",
    "\n",
    "colleageA.State = \"A old state\";\n",
    "colleageB.State = \"B old state\";\n",
    "\n",
    "colleageA.Action();\n",
    "\n",
    "colleageA.State.Display();\n",
    "colleageB.State.Display();\n",
    "\n",
    "colleageA.State = \"A new state\";\n",
    "colleageB.State = \"B new state\";\n",
    "\n",
    "colleageB.Action();\n",
    "\n",
    "colleageA.State.Display();\n",
    "colleageB.State.Display();"
   ]
  }
 ],
 "metadata": {
  "kernelspec": {
   "display_name": ".NET (C#)",
   "language": "C#",
   "name": ".net-csharp"
  },
  "language_info": {
   "file_extension": ".cs",
   "mimetype": "text/x-csharp",
   "name": "C#",
   "pygments_lexer": "csharp",
   "version": "9.0"
  },
  "orig_nbformat": 4
 },
 "nbformat": 4,
 "nbformat_minor": 2
}
