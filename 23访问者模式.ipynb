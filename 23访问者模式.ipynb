{
 "cells": [
  {
   "cell_type": "markdown",
   "metadata": {},
   "source": [
    "# 访问者模式 Visitor Pattern\n",
    "\n",
    "用于封装一些施加于某种数据结构元素之上的操作，一旦操作需要修改，接受这个操作的数据结构可以保持不变。\n",
    "\n",
    "适用于数据结构相对还未确定的系统，他把数据结构和作用其上的操作解耦，使得操作可以自由的变化。\n",
    "\n",
    "双重分派（Double Dispatch）"
   ]
  },
  {
   "cell_type": "code",
   "execution_count": null,
   "metadata": {
    "dotnet_interactive": {
     "language": "csharp"
    },
    "vscode": {
     "languageId": "dotnet-interactive.csharp"
    }
   },
   "outputs": [],
   "source": [
    "#nullable enable\n",
    "\n"
   ]
  }
 ],
 "metadata": {
  "kernelspec": {
   "display_name": ".NET (C#)",
   "language": "C#",
   "name": ".net-csharp"
  },
  "language_info": {
   "file_extension": ".cs",
   "mimetype": "text/x-csharp",
   "name": "C#",
   "pygments_lexer": "csharp",
   "version": "9.0"
  },
  "orig_nbformat": 4
 },
 "nbformat": 4,
 "nbformat_minor": 2
}
