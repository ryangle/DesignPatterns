{
 "cells": [
  {
   "cell_type": "markdown",
   "metadata": {},
   "source": [
    "# 访问者模式 Visitor Pattern\n",
    "\n",
    "用于封装一些施加于某种数据结构元素之上的操作，一旦操作需要修改，接受这个操作的数据结构可以保持不变。\n",
    "\n",
    "适用于数据结构相对还未确定的系统，他把数据结构和作用其上的操作解耦，使得操作可以自由的变化。\n",
    "\n",
    "双重分派（Double Dispatch）"
   ]
  },
  {
   "cell_type": "code",
   "execution_count": null,
   "metadata": {
    "dotnet_interactive": {
     "language": "csharp"
    },
    "vscode": {
     "languageId": "dotnet-interactive.csharp"
    }
   },
   "outputs": [],
   "source": [
    "#nullable enable\n",
    "\n",
    "public abstract class Visitor{\n",
    "    public abstract void VisitConcreteElementA(ConcreteElementA concreteElementA);\n",
    "    public abstract void VisitConcreteElementB(ConcreteElementB concreteElementB);\n",
    "}\n",
    "public class ConcreteVisitor1:Visitor{\n",
    "    public override void VisitConcreteElementA(ConcreteElementA concreteElementA){\n",
    "        Console.WriteLine($\"{concreteElementA} visited by {this}\");\n",
    "    }\n",
    "    public override void VisitConcreteElementB(ConcreteElementB concreteElementB){\n",
    "        Console.WriteLine($\"{concreteElementB} visited by {this}\");\n",
    "    }\n",
    "}\n",
    "public class ConcreteVisitor2:Visitor{\n",
    "    public override void VisitConcreteElementA(ConcreteElementA concreteElementA){\n",
    "        Console.WriteLine($\"{concreteElementA} visited by {this}\");\n",
    "    }\n",
    "    public override void VisitConcreteElementB(ConcreteElementB concreteElementB){\n",
    "        Console.WriteLine($\"{concreteElementB} visited by {this}\");\n",
    "    }\n",
    "}\n",
    "public abstract class Element{\n",
    "    public abstract void Accept(Visitor visitor);\n",
    "}\n",
    "public class ConcreteElementA:Element{\n",
    "    public override void Accept(Visitor visitor){\n",
    "        visitor.VisitConcreteElementA(this);\n",
    "    }\n",
    "    public void OperationA(){}\n",
    "}\n",
    "public class ConcreteElementB:Element{\n",
    "    public override void Accept(Visitor visitor){\n",
    "        visitor.VisitConcreteElementB(this);\n",
    "    }\n",
    "    public void OperationB(){}\n",
    "}\n",
    "public class ObjectStructure{\n",
    "    private List<Element> _elements = new();\n",
    "    public void Attach(Element element){\n",
    "        _elements.Add(element);\n",
    "    }\n",
    "    public void Detach(Element element){\n",
    "        _elements.Remove(element);\n",
    "    }\n",
    "    public void Accept(Visitor visitor){\n",
    "        _elements.ForEach(e=>e.Accept(visitor));\n",
    "    }\n",
    "}\n",
    "\n",
    "ObjectStructure o = new();\n",
    "o.Attach(new ConcreteElementA());\n",
    "o.Attach(new ConcreteElementB());\n",
    "\n",
    "ConcreteVisitor1 v1 = new();\n",
    "ConcreteVisitor2 v2 = new();\n",
    "\n",
    "o.Accept(v1);\n",
    "o.Accept(v2);\n"
   ]
  }
 ],
 "metadata": {
  "kernelspec": {
   "display_name": ".NET (C#)",
   "language": "C#",
   "name": ".net-csharp"
  },
  "language_info": {
   "file_extension": ".cs",
   "mimetype": "text/x-csharp",
   "name": "C#",
   "pygments_lexer": "csharp",
   "version": "9.0"
  },
  "orig_nbformat": 4
 },
 "nbformat": 4,
 "nbformat_minor": 2
}
